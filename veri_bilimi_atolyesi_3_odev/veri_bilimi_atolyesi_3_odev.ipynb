{
 "cells": [
  {
   "cell_type": "markdown",
   "id": "cfccd395",
   "metadata": {},
   "source": [
    "# Exercise 1\n",
    "\n",
    "Kullanıcıdan maaş bilgisini istenir ve bu bilgiye göre maaşından ne kadar vergi kesileceğini hesaplanır. Kullanıcının geliri;\n",
    "\n",
    "1- 10000 ve altındaysa maaşından %5 kesinti olur. \n",
    "\n",
    "2- 25000 ve altındaysa maaşından %10 kesinti olur. \n",
    "\n",
    "3- 45000 ve altındaysa maaşından %25 kesinti olur. \n",
    "\n",
    "4- Diğer koşullarda %30 kesinti olur. \n",
    " \n",
    "Bu durumlara göre kullanıcının yeni maaşı yazdırılır.\n",
    "\n"
   ]
  },
  {
   "cell_type": "code",
   "execution_count": 10,
   "id": "c0e3f41e",
   "metadata": {
    "scrolled": true
   },
   "outputs": [
    {
     "name": "stdout",
     "output_type": "stream",
     "text": [
      "Aldığınız maaş: 564565\n",
      "Maaşınızdan %30 kesinti oldu: 169369.5 işte yeni maaşınız: 395195.5\n"
     ]
    }
   ],
   "source": [
    "# salary yazımı maaşdan daha basit geldiğinden salary kullanmayı tercih ettim.\n",
    "salary = int(input (\"Aldığınız maaş: \"))\n",
    "if salary <= 10000:\n",
    "    kesinti = salary * 0.05\n",
    "    new_salary = salary - kesinti\n",
    "    print(\"Maaşınızdan %5 kesinti oldu: \" + str(kesinti) + \" işte yeni maaşınız: \" + str(new_salary))\n",
    "    \n",
    "elif salary <= 25000:\n",
    "    kesinti = salary * 0.10\n",
    "    new_salary = salary - kesinti\n",
    "    print(\"Maaşınızdan %10 kesinti oldu: \" + str(kesinti) + \" işte yeni maaşınız: \" + str(new_salary))\n",
    "    \n",
    "elif salary <= 45000:\n",
    "    kesinti = salary * 0.25\n",
    "    new_salary = salary - kesinti\n",
    "    print(\"Maaşınızdan %25 kesinti oldu: \" + str(kesinti) + \" işte yeni maaşınız: \" + str(new_salary))\n",
    "    \n",
    "elif salary >= 45001:\n",
    "    kesinti = salary * 0.30\n",
    "    new_salary = salary - kesinti\n",
    "    print(\"Maaşınızdan %30 kesinti oldu: \" + str(kesinti) + \" işte yeni maaşınız: \" + str(new_salary))"
   ]
  },
  {
   "cell_type": "markdown",
   "id": "7d5b8a41",
   "metadata": {},
   "source": [
    "# Exercise 2\n",
    "\n",
    "Kullanıcıdan kullanıcı adı ve şifre oluşturmasını istenir. Şifrenin uzunluğu altı haneye ulaşmışsa hesabınız oluşturuldu mesajı alınır, altı haneden azsa altı haneli şifre oluşturması gerektiğinin mesajı alınır. (Sadece koşul kullanılması yeterli.)\n"
   ]
  },
  {
   "cell_type": "code",
   "execution_count": 22,
   "id": "c09ee2d9",
   "metadata": {
    "scrolled": true
   },
   "outputs": [
    {
     "name": "stdout",
     "output_type": "stream",
     "text": [
      "Kullanıcı adı giriniz: Aldric\n",
      "Şifrenizi giriniz: 1234\n",
      "Hesabınız en az 6 karakter uzunluğunda olmalıdır!\n"
     ]
    }
   ],
   "source": [
    "ad = input (\"Kullanıcı adı giriniz: \")\n",
    "sifre = input (\"Şifrenizi giriniz: \")\n",
    "\n",
    "if len(sifre) >= 6:\n",
    "    print(\"Hesabınız başarıyla oluşturuldu.\")\n",
    "else:\n",
    "    print(\"Hesabınız en az 6 karakter uzunluğunda olmalıdır!\")"
   ]
  },
  {
   "cell_type": "markdown",
   "id": "898f8606",
   "metadata": {},
   "source": [
    "# Exercise 3\n",
    "\n",
    "Bir önceki örnek geliştirilir.\n",
    "\n",
    "\n",
    "1- Kullanıcı girdiği şifre 5 ve 10 hane arasında olmak zorunda.\n",
    "\n",
    "2- Eğer bu koşula uyuyorsa \"Hesabınız oluşturuldu.\" mesajı alır.\n",
    "\n",
    "3- Koşulu sağlamıyorsa \"Lütfen girdiniz şifre 5 haneden az 10 haneden fazla olmasın!\" uyarısı alır. \n",
    "\n",
    "4- Bunu oluştururken kullanıcı istediğimiz şartlarda şifre oluşturana kadar sormaya devam eder.\n"
   ]
  },
  {
   "cell_type": "code",
   "execution_count": 39,
   "id": "c8ef02e8",
   "metadata": {},
   "outputs": [
    {
     "name": "stdout",
     "output_type": "stream",
     "text": [
      "Kullanıcı adınızı giriniz: Aldric\n",
      "Şifrenizi giriniz (5-10 haneli olmalıdır): 1234\n",
      "Lütfen girdiniz şifre 5 haneden az 10 haneden fazla olmasın!\n",
      "Şifrenizi giriniz (5-10 haneli olmalıdır): 12345\n",
      "Hesabınız başarıyla oluşturuldu.\n"
     ]
    }
   ],
   "source": [
    "kullanici_adi = input(\"Kullanıcı adınızı giriniz: \")\n",
    "\n",
    "\n",
    "while True:\n",
    "    sifre = input(\"Şifrenizi giriniz (5-10 haneli olmalıdır): \")\n",
    "    \n",
    "    \n",
    "    if 5 <= len(sifre) <= 10:\n",
    "        print(\"Hesabınız başarıyla oluşturuldu.\")\n",
    "        break\n",
    "    else:\n",
    "        print(\"Lütfen girdiniz şifre 5 haneden az 10 haneden fazla olmasın!\")"
   ]
  },
  {
   "cell_type": "markdown",
   "id": "05baec5c",
   "metadata": {},
   "source": [
    "# Exercise 4\n",
    "\n",
    "Kullanıcıdan isim ve şifre isteyeceğiz ve şifre girişi için üç hak verilir.\n",
    "\n",
    "1- Eğer önceden tanımlı şifre ile kullanıcıdan gelen şifre aynıysa \"Giriş yapıldı.\" yazar.\n",
    " \n",
    "2- Şifre girişi yanlışsa \"Yanlış şifre girildi!\" uyarısı verilsin ve üç yanlış denemede program biter. \n",
    " \n",
    "3- Tercihe göre kalan hak bilgisi verilir. \n"
   ]
  },
  {
   "cell_type": "code",
   "execution_count": 40,
   "id": "10a770b9",
   "metadata": {},
   "outputs": [
    {
     "name": "stdout",
     "output_type": "stream",
     "text": [
      "Parolanızı Giriniz: 4\n",
      "Yanlış şifre girildi!\n",
      "Parolanızı Giriniz: 5\n",
      "Yanlış şifre girildi!\n",
      "Parolanızı Giriniz: 3\n",
      "Yanlış şifre girildi!\n"
     ]
    }
   ],
   "source": [
    "sifre = \"hikod\"\n",
    "\n",
    "for i in range(3):\n",
    "    parola = input(\"Parolanızı Giriniz: \")\n",
    "    if sifre == parola:\n",
    "        print(\"Giriş Yapıldı.\")\n",
    "        break\n",
    "        \n",
    "    else:\n",
    "        print(\"Yanlış şifre girildi!\")"
   ]
  }
 ],
 "metadata": {
  "kernelspec": {
   "display_name": "Python 3 (ipykernel)",
   "language": "python",
   "name": "python3"
  },
  "language_info": {
   "codemirror_mode": {
    "name": "ipython",
    "version": 3
   },
   "file_extension": ".py",
   "mimetype": "text/x-python",
   "name": "python",
   "nbconvert_exporter": "python",
   "pygments_lexer": "ipython3",
   "version": "3.10.9"
  }
 },
 "nbformat": 4,
 "nbformat_minor": 5
}
